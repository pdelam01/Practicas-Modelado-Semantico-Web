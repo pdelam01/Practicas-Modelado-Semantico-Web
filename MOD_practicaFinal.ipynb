{
 "cells": [
  {
   "cell_type": "markdown",
   "metadata": {},
   "source": [
    "# Twitter Scraper: Tweepy y Pandas dataframe\n",
    "## Técnicas de Modelado Semántico en la Web - \n",
    "### Guerra en Ucrania - Twitter scraping"
   ]
  },
  {
   "cell_type": "code",
   "execution_count": 1,
   "metadata": {},
   "outputs": [
    {
     "name": "stdout",
     "output_type": "stream",
     "text": [
      "Requirement already satisfied: tweepy in c:\\users\\rockb\\appdata\\local\\packages\\pythonsoftwarefoundation.python.3.9_qbz5n2kfra8p0\\localcache\\local-packages\\python39\\site-packages (4.9.0)\n",
      "Requirement already satisfied: oauthlib<4,>=3.2.0 in c:\\users\\rockb\\appdata\\local\\packages\\pythonsoftwarefoundation.python.3.9_qbz5n2kfra8p0\\localcache\\local-packages\\python39\\site-packages (from tweepy) (3.2.0)\n",
      "Requirement already satisfied: requests<3,>=2.27.0 in c:\\users\\rockb\\appdata\\local\\packages\\pythonsoftwarefoundation.python.3.9_qbz5n2kfra8p0\\localcache\\local-packages\\python39\\site-packages (from tweepy) (2.27.1)\n",
      "Requirement already satisfied: requests-oauthlib<2,>=1.2.0 in c:\\users\\rockb\\appdata\\local\\packages\\pythonsoftwarefoundation.python.3.9_qbz5n2kfra8p0\\localcache\\local-packages\\python39\\site-packages (from tweepy) (1.3.1)\n",
      "Requirement already satisfied: charset-normalizer~=2.0.0 in c:\\users\\rockb\\appdata\\local\\packages\\pythonsoftwarefoundation.python.3.9_qbz5n2kfra8p0\\localcache\\local-packages\\python39\\site-packages (from requests<3,>=2.27.0->tweepy) (2.0.12)\n",
      "Requirement already satisfied: certifi>=2017.4.17 in c:\\users\\rockb\\appdata\\local\\packages\\pythonsoftwarefoundation.python.3.9_qbz5n2kfra8p0\\localcache\\local-packages\\python39\\site-packages (from requests<3,>=2.27.0->tweepy) (2022.5.18)\n",
      "Requirement already satisfied: idna<4,>=2.5 in c:\\users\\rockb\\appdata\\local\\packages\\pythonsoftwarefoundation.python.3.9_qbz5n2kfra8p0\\localcache\\local-packages\\python39\\site-packages (from requests<3,>=2.27.0->tweepy) (3.3)\n",
      "Requirement already satisfied: urllib3<1.27,>=1.21.1 in c:\\users\\rockb\\appdata\\local\\packages\\pythonsoftwarefoundation.python.3.9_qbz5n2kfra8p0\\localcache\\local-packages\\python39\\site-packages (from requests<3,>=2.27.0->tweepy) (1.26.9)\n",
      "Note: you may need to restart the kernel to use updated packages.\n"
     ]
    },
    {
     "name": "stderr",
     "output_type": "stream",
     "text": [
      "WARNING: You are using pip version 21.1.2; however, version 22.1.1 is available.\n",
      "You should consider upgrading via the 'C:\\Users\\rockb\\AppData\\Local\\Microsoft\\WindowsApps\\PythonSoftwareFoundation.Python.3.9_qbz5n2kfra8p0\\python.exe -m pip install --upgrade pip' command.\n"
     ]
    },
    {
     "name": "stdout",
     "output_type": "stream",
     "text": [
      "Requirement already satisfied: pandas in c:\\users\\rockb\\appdata\\local\\packages\\pythonsoftwarefoundation.python.3.9_qbz5n2kfra8p0\\localcache\\local-packages\\python39\\site-packages (1.4.2)\n",
      "Requirement already satisfied: numpy>=1.18.5 in c:\\users\\rockb\\appdata\\local\\packages\\pythonsoftwarefoundation.python.3.9_qbz5n2kfra8p0\\localcache\\local-packages\\python39\\site-packages (from pandas) (1.22.3)\n",
      "Requirement already satisfied: pytz>=2020.1 in c:\\users\\rockb\\appdata\\local\\packages\\pythonsoftwarefoundation.python.3.9_qbz5n2kfra8p0\\localcache\\local-packages\\python39\\site-packages (from pandas) (2021.1)\n",
      "Requirement already satisfied: python-dateutil>=2.8.1 in c:\\users\\rockb\\appdata\\local\\packages\\pythonsoftwarefoundation.python.3.9_qbz5n2kfra8p0\\localcache\\local-packages\\python39\\site-packages (from pandas) (2.8.2)\n",
      "Requirement already satisfied: six>=1.5 in c:\\users\\rockb\\appdata\\local\\packages\\pythonsoftwarefoundation.python.3.9_qbz5n2kfra8p0\\localcache\\local-packages\\python39\\site-packages (from python-dateutil>=2.8.1->pandas) (1.16.0)\n",
      "Note: you may need to restart the kernel to use updated packages.\n"
     ]
    },
    {
     "name": "stderr",
     "output_type": "stream",
     "text": [
      "WARNING: You are using pip version 21.1.2; however, version 22.1.1 is available.\n",
      "You should consider upgrading via the 'C:\\Users\\rockb\\AppData\\Local\\Microsoft\\WindowsApps\\PythonSoftwareFoundation.Python.3.9_qbz5n2kfra8p0\\python.exe -m pip install --upgrade pip' command.\n"
     ]
    },
    {
     "name": "stdout",
     "output_type": "stream",
     "text": [
      "Requirement already satisfied: matplotlib in c:\\users\\rockb\\appdata\\local\\packages\\pythonsoftwarefoundation.python.3.9_qbz5n2kfra8p0\\localcache\\local-packages\\python39\\site-packages (3.5.2)\n",
      "Requirement already satisfied: python-dateutil>=2.7 in c:\\users\\rockb\\appdata\\local\\packages\\pythonsoftwarefoundation.python.3.9_qbz5n2kfra8p0\\localcache\\local-packages\\python39\\site-packages (from matplotlib) (2.8.2)\n",
      "Requirement already satisfied: packaging>=20.0 in c:\\users\\rockb\\appdata\\local\\packages\\pythonsoftwarefoundation.python.3.9_qbz5n2kfra8p0\\localcache\\local-packages\\python39\\site-packages (from matplotlib) (21.3)\n",
      "Requirement already satisfied: cycler>=0.10 in c:\\users\\rockb\\appdata\\local\\packages\\pythonsoftwarefoundation.python.3.9_qbz5n2kfra8p0\\localcache\\local-packages\\python39\\site-packages (from matplotlib) (0.11.0)\n",
      "Requirement already satisfied: pillow>=6.2.0 in c:\\users\\rockb\\appdata\\local\\packages\\pythonsoftwarefoundation.python.3.9_qbz5n2kfra8p0\\localcache\\local-packages\\python39\\site-packages (from matplotlib) (9.1.1)\n",
      "Requirement already satisfied: fonttools>=4.22.0 in c:\\users\\rockb\\appdata\\local\\packages\\pythonsoftwarefoundation.python.3.9_qbz5n2kfra8p0\\localcache\\local-packages\\python39\\site-packages (from matplotlib) (4.33.3)\n",
      "Requirement already satisfied: kiwisolver>=1.0.1 in c:\\users\\rockb\\appdata\\local\\packages\\pythonsoftwarefoundation.python.3.9_qbz5n2kfra8p0\\localcache\\local-packages\\python39\\site-packages (from matplotlib) (1.4.2)\n",
      "Requirement already satisfied: numpy>=1.17 in c:\\users\\rockb\\appdata\\local\\packages\\pythonsoftwarefoundation.python.3.9_qbz5n2kfra8p0\\localcache\\local-packages\\python39\\site-packages (from matplotlib) (1.22.3)\n",
      "Requirement already satisfied: pyparsing>=2.2.1 in c:\\users\\rockb\\appdata\\local\\packages\\pythonsoftwarefoundation.python.3.9_qbz5n2kfra8p0\\localcache\\local-packages\\python39\\site-packages (from matplotlib) (3.0.9)\n",
      "Requirement already satisfied: six>=1.5 in c:\\users\\rockb\\appdata\\local\\packages\\pythonsoftwarefoundation.python.3.9_qbz5n2kfra8p0\\localcache\\local-packages\\python39\\site-packages (from python-dateutil>=2.7->matplotlib) (1.16.0)\n",
      "Note: you may need to restart the kernel to use updated packages.\n"
     ]
    },
    {
     "name": "stderr",
     "output_type": "stream",
     "text": [
      "WARNING: You are using pip version 21.1.2; however, version 22.1.1 is available.\n",
      "You should consider upgrading via the 'C:\\Users\\rockb\\AppData\\Local\\Microsoft\\WindowsApps\\PythonSoftwareFoundation.Python.3.9_qbz5n2kfra8p0\\python.exe -m pip install --upgrade pip' command.\n"
     ]
    }
   ],
   "source": [
    "#Intalación de librerias\n",
    "%pip install tweepy\n",
    "%pip install pandas\n",
    "%pip install matplotlib"
   ]
  },
  {
   "cell_type": "code",
   "execution_count": 1,
   "metadata": {},
   "outputs": [],
   "source": [
    "#Imports\n",
    "import tweepy\n",
    "import pandas as pd\n",
    "import time\n",
    "import os"
   ]
  },
  {
   "cell_type": "code",
   "execution_count": 2,
   "metadata": {},
   "outputs": [],
   "source": [
    "#Credentials\n",
    "consumer_key = \"59h44Sc9uN1ueZQi70UJGbFlj\"\n",
    "consumer_secret = \"Z2b2pf9kvT2TUw7sHvTq2Qnw1KrAujSe3ZIJOzycPsF8LeHUDA\"\n",
    "access_token = \"2643285261-LNEJiHffpIUSJtqWPCPa4eWWAFQmN1QhqApHSkx\"\n",
    "access_token_secret = \"vVCZxSqvN5btApcvA9oktbnHBak9cbCCgIcSog8Dpa8Sh\"\n",
    "\n",
    "auth = tweepy.OAuthHandler(consumer_key, consumer_secret)\n",
    "auth.set_access_token(access_token, access_token_secret)\n",
    "api = tweepy.API(auth,wait_on_rate_limit=True)"
   ]
  },
  {
   "cell_type": "markdown",
   "metadata": {},
   "source": [
    "# Parte 1: toma de contacto Twitter API\n",
    "### Búsqueda tweets en base a un usuario en concreto"
   ]
  },
  {
   "cell_type": "code",
   "execution_count": null,
   "metadata": {},
   "outputs": [],
   "source": [
    "client = tweepy.Client(bearer_token='AAAAAAAAAAAAAAAAAAAAAPK4cQEAAAAAm%2B6rariKgLqewpB%2B9TEEYa3sIr0%3DFkF7GQ9UusNeVeZTRwNCVAUgOsZaUUSen3jzq28TQlZG3Bn1OT')\n",
    "query = 'from:elonmusk -is:retweet'\n",
    "\n",
    "# From the Twitter handle \"elonmusk\" and we are excluding retweets using -is:retweet\n",
    "# Additional Tweet fields such as \"context_annotations\" or \"created_at\": ,tweet_fields=['context_annotations', 'created_at'],\n",
    "tweets = client.search_recent_tweets(query=query, max_results=100)\n",
    "\n",
    "for tweet in tweets.data:\n",
    "    print(tweet.text)\n",
    "    if len(tweet.context_annotations) > 0:\n",
    "        print(tweet.context_annotations)"
   ]
  },
  {
   "cell_type": "markdown",
   "metadata": {},
   "source": [
    "### Búsqueda de tweets en base a una sentencia"
   ]
  },
  {
   "cell_type": "code",
   "execution_count": 3,
   "metadata": {},
   "outputs": [],
   "source": [
    "tweets = []\n",
    "\n",
    "def text_query_to_csv(text_query,count):\n",
    "    try:\n",
    "        # Creation of query method using parameters\n",
    "        tweets = tweepy.Cursor(api.search_tweets,\n",
    "                               q=text_query, \n",
    "                               lang='en OR es').items(count)\n",
    "\n",
    "        # Pulling information from tweets iterable object\n",
    "        # relation = tweet.is_quoted_status tweet.retweet.status\n",
    "        tweets_list = [[tweet.created_at, tweet.id, tweet.user.name, tweet.user.followers_count, tweet.source, tweet.text] for tweet in tweets]\n",
    "        \n",
    "        # Creation of dataframe from tweets list\n",
    "        # Add or remove columns as you remove tweet information\n",
    "        tweets_df = pd.DataFrame(tweets_list,columns=['Datetime', 'Tweet Id', 'Name', 'Followers', 'Source', 'Text'])\n",
    "\n",
    "        # Converting dataframe to CSV \n",
    "        tweets_df.to_csv('UkraineWarTweets.csv'.format(text_query), mode='a+', sep=',', index = False)\n",
    "\n",
    "    except BaseException as e:\n",
    "        print('failed on_status,',str(e))\n",
    "        time.sleep(3)\n",
    "        \n",
    "# Input search query to scrape tweets and name csv file\n",
    "# Max recent tweets pulls x amount of most recent tweets from that user\n",
    "text_query = '\"Ukranian war\" OR \"Russian army\" OR Donbas OR Crimea OR Kiev OR Zelensky OR Putin OR NATO OR OTAN -is:retweet'\n",
    "count = 400\n",
    "\n",
    "# Calling function to query X amount of relevant tweets and create a CSV file\n",
    "text_query_to_csv(text_query, count)"
   ]
  },
  {
   "cell_type": "markdown",
   "metadata": {},
   "source": [
    "# Parte 2: preprocesamiento y limpieza de datos"
   ]
  },
  {
   "cell_type": "code",
   "execution_count": 4,
   "metadata": {},
   "outputs": [
    {
     "name": "stderr",
     "output_type": "stream",
     "text": [
      "C:\\Users\\rockb\\AppData\\Local\\Temp\\ipykernel_3280\\3687665488.py:1: FutureWarning: The error_bad_lines argument has been deprecated and will be removed in a future version. Use on_bad_lines in the future.\n",
      "\n",
      "\n",
      "  data1_0 = pd.read_csv('UkraineWarTweets.csv', encoding='utf8', sep=\",\", header = None, error_bad_lines=False)\n",
      "b'Skipping line 837: expected 6 fields, saw 7\\nSkipping line 838: expected 6 fields, saw 7\\nSkipping line 839: expected 6 fields, saw 7\\nSkipping line 840: expected 6 fields, saw 7\\nSkipping line 841: expected 6 fields, saw 7\\nSkipping line 842: expected 6 fields, saw 7\\nSkipping line 843: expected 6 fields, saw 7\\nSkipping line 844: expected 6 fields, saw 7\\nSkipping line 845: expected 6 fields, saw 7\\nSkipping line 846: expected 6 fields, saw 7\\nSkipping line 847: expected 6 fields, saw 7\\n'\n"
     ]
    },
    {
     "data": {
      "text/plain": [
       "(2902, 6)"
      ]
     },
     "execution_count": 4,
     "metadata": {},
     "output_type": "execute_result"
    }
   ],
   "source": [
    "data1_0 = pd.read_csv('UkraineWarTweets.csv', encoding='utf8', sep=\",\", header = None, error_bad_lines=False)\n",
    "\n",
    "def pre_df(data):\n",
    "    data.columns = ['Datetime', 'Tweet Id', 'Name', 'Followers', 'Source', 'Text']\n",
    "    \n",
    "pre_df(data1_0)\n",
    "\"\"\"    \n",
    "pd.set_option('display.max_columns', None)\n",
    "pd.set_option('display.max_rows', None)\n",
    "pd.options.display.max_colwidth = 300\n",
    "\"\"\"  \n",
    "data_tot = pd.concat(\n",
    "    [data1_0],\n",
    "    axis=0,\n",
    "    join=\"outer\",\n",
    "    ignore_index=True,\n",
    "    copy=True\n",
    ")\n",
    "\n",
    "data_tot.shape"
   ]
  },
  {
   "cell_type": "code",
   "execution_count": 5,
   "metadata": {},
   "outputs": [
    {
     "data": {
      "text/plain": [
       "Source\n",
       "@ImaSmash23412                 1\n",
       "Bot Libre!                     1\n",
       "Buffer                         1\n",
       "Cheap Bots, Done Quick!        1\n",
       "CobeDot                        1\n",
       "Dailyscope.net                 1\n",
       "DopeyUncle2                    2\n",
       "Drone_Bot                      1\n",
       "Echobox                        4\n",
       "Echofon                        1\n",
       "Hootsuite Inc.                 1\n",
       "IFTTT                         20\n",
       "IdeallyaNews                   1\n",
       "LaterMedia                     1\n",
       "LinkedIn                       1\n",
       "Microsoft Power Platform       2\n",
       "Nowmy Tweets                   1\n",
       "OxfordBlue-Twitter             2\n",
       "Revive Social App              4\n",
       "SkyNetDev1                     1\n",
       "SocialFlow                     5\n",
       "Source                        12\n",
       "The Fuck Putin Bot             3\n",
       "Tiana1                         1\n",
       "TopazBots.com                  1\n",
       "True Anthem                    1\n",
       "TweetCaster for Android        3\n",
       "TweetDeck                     24\n",
       "TweetDeck Web App              2\n",
       "Tweetbot for Mac               1\n",
       "Tweetbot for iΟS               1\n",
       "Twidere for Android            2\n",
       "TwitBoByJames                  1\n",
       "Twitter Web App              853\n",
       "Twitter for Android         1054\n",
       "Twitter for Mac                2\n",
       "Twitter for iPad             131\n",
       "Twitter for iPhone           727\n",
       "Twitterrific for iOS           3\n",
       "Vimeo                          1\n",
       "WordPress.com                 12\n",
       "Zapier.com                     1\n",
       "cmssocialservice               1\n",
       "dlvr.it                       10\n",
       "ua_dashboard_bot               1\n",
       "veilleeuroatl                  1\n",
       "Name: Text, dtype: int64"
      ]
     },
     "execution_count": 5,
     "metadata": {},
     "output_type": "execute_result"
    }
   ],
   "source": [
    "#Ordenamos por \"Source\", la segunda columna es \"Text\" (el tweet en sí mismo)\n",
    "data_tot.groupby('Source')['Text'].count()"
   ]
  },
  {
   "cell_type": "code",
   "execution_count": 10,
   "metadata": {},
   "outputs": [
    {
     "data": {
      "text/plain": [
       "Source\n",
       "IFTTT                        20\n",
       "LaterMedia                    1\n",
       "Microsoft Power Platform      2\n",
       "Revive Social App             3\n",
       "SkyNetDev1                    1\n",
       "SocialFlow                    4\n",
       "TweetCaster for Android       3\n",
       "TweetDeck                    17\n",
       "Twidere for Android           1\n",
       "Twitter Web App             610\n",
       "Twitter for Android         762\n",
       "Twitter for Mac               2\n",
       "Twitter for iPad             87\n",
       "Twitter for iPhone          535\n",
       "Twitterrific for iOS          2\n",
       "WordPress.com                11\n",
       "Name: Text, dtype: int64"
      ]
     },
     "execution_count": 10,
     "metadata": {},
     "output_type": "execute_result"
    }
   ],
   "source": [
    "#Limpiamos los tweets que no deseamos, como errores o los tweets generados por bots\n",
    "data_tot_cl = data_tot.query('Source != \"Source\" and Source != \"veilleeuroatl\" and Source != \"Nowmy Tweets\" \\\n",
    "and Source != \"Tweetbot for iΟS\" and Source != \"The Fuck Putin Bot\" and Source != \"dlvr.it\" and Source !=\"DopeyUncle2\" \\\n",
    "and Source != \"Cheap Bots, Done Quick!\" and Source != \"IdeallyaNews\" and Source != \"TopazBots.com\" \\\n",
    "and Source != \"Tweetbot for Mac\" and Source != \"CobeDot\" and Source != \"Echobox\" and Source ! = \"True Anthem\" \\\n",
    "and Source != \"Drone_Bot\" and Source != \"Dailyscope.net\" and Source != \"Bot Libre!\" and Source != \"Buffer\" \\\n",
    "and Source != \"cmssocialservice\" and Source != \"ua_dashboard_bot\"')\n",
    "\n",
    "#Comprobamos todo ha ido bien\n",
    "data_tot_cl.groupby('Source')['Text'].count()"
   ]
  },
  {
   "cell_type": "code",
   "execution_count": 6,
   "metadata": {},
   "outputs": [
    {
     "data": {
      "text/plain": [
       "Text\n",
       "\"'De entrada, no' fue el eslogan ambiguo con q el PSOE saludó hace cuarenta años el ingreso d España en la OTAN, [.… https://t.co/u74iaKYQyF          1\n",
       "\"A major nuclear power is behaving as if it has the right to redraw borders. Putin wants a return to a world order… https://t.co/cLnabQAXuJ           1\n",
       "\"Crimea is ours. Our Ukrainian. And they (the Americans) know it. Therefore, they will fly to Crimea at a run, if t… https://t.co/A2hBMctl11          1\n",
       "\"For NATO, Turkey Is a Disruptive Ally\" by Michael Crowley and Steven Erlanger via NYT https://t.co/nQOYYqwFyQ https://t.co/Fsir64XBf4                1\n",
       "\"If we are going to peddle such caveman nationalism, pour dirt on representatives of other ethnicities, we will bre… https://t.co/w3DJ2u9NXi          1\n",
       "                                                                                                                                                     ..\n",
       "🔴Day 100 of special 3 day military operation:\\n\\n- NATO expanding\\n- Ru energy coming to end\\n- Ru destroys cities, com… https://t.co/AomPNlG5Uu      1\n",
       "🗞️ SETROI #NEWS #ULTIMAHORA Sara Baras, Ara Malikian y Miguel Poveda pasarán por las ‘Noches Mágicas 2022’.… https://t.co/6ogBDDFvIz                  1\n",
       "🗺️ World top topics in media headlines:\\nhttps://t.co/0MuNTBvi2k\\n\\n1. Ukraine\\n2. Russia\\n3. Russian\\n4. China\\n5. Biden… https://t.co/UPJdQ58JJ9    1\n",
       "😂🤡😂🤡 People like ex- Goldman Sachs Draghi made a good living out of manipulating people. He apparently believes he… https://t.co/WxECBB4BYT           1\n",
       "🤯 3 months into Putin's war in #Ukraine, lobbyists from Russian oil, gas and nuclear companies still have unlimited… https://t.co/8iBSS94ct3          1\n",
       "Name: Text, Length: 2018, dtype: int64"
      ]
     },
     "execution_count": 6,
     "metadata": {},
     "output_type": "execute_result"
    }
   ],
   "source": [
    "#Observamos parte de los tweets recopilados\n",
    "data_tot.groupby('Text')['Text'].count()"
   ]
  },
  {
   "cell_type": "code",
   "execution_count": 7,
   "metadata": {},
   "outputs": [],
   "source": [
    "#Eliminamos los retweets\n",
    "for index, row in data_tot.iterrows():\n",
    "    if row['Text'].startswith('RT @'):\n",
    "        data_tot.drop(index, inplace=True)\n",
    "\n",
    "data_tot_cl=data_tot"
   ]
  },
  {
   "cell_type": "code",
   "execution_count": 8,
   "metadata": {},
   "outputs": [
    {
     "name": "stdout",
     "output_type": "stream",
     "text": [
      "El tamaño del dataframe es de: (864, 6) filas y columnas\n"
     ]
    }
   ],
   "source": [
    "#Comprobamos el tamaño del dataframe\n",
    "print('El tamaño del dataframe es de:',data_tot_cl.shape, 'filas y columnas')"
   ]
  },
  {
   "cell_type": "code",
   "execution_count": 9,
   "metadata": {},
   "outputs": [
    {
     "name": "stdout",
     "output_type": "stream",
     "text": [
      "                      Datetime  size\n",
      "0    2022-05-18 14:22:18+00:00     1\n",
      "1    2022-05-18 14:22:20+00:00     1\n",
      "2    2022-05-18 14:22:21+00:00     1\n",
      "3    2022-05-18 14:22:39+00:00     3\n",
      "4    2022-05-18 14:22:41+00:00     1\n",
      "..                         ...   ...\n",
      "576  2022-06-03 06:23:04+00:00     2\n",
      "577  2022-06-03 06:23:05+00:00     2\n",
      "578  2022-06-03 06:23:08+00:00     3\n",
      "579  2022-06-03 06:23:10+00:00     1\n",
      "580                   Datetime    12\n",
      "\n",
      "[581 rows x 2 columns] \n",
      "\n",
      "Fecha más tardía:  2022-06-03 06:23:10+00:00 \n",
      "\n",
      "Fecha más temprana:  2022-05-18 14:22:18+00:00\n"
     ]
    }
   ],
   "source": [
    "dateGroup = data_tot_cl.groupby(['Datetime'], as_index = False).size()\n",
    "print(dateGroup,\"\\n\")\n",
    "\n",
    "dateMaximo = dateGroup.loc[pd.to_datetime(dateGroup['Datetime'], errors='coerce').idxmax()]\n",
    "print(\"Fecha más tardía: \",dateMaximo['Datetime'],\"\\n\")\n",
    "dateMinimo = dateGroup.loc[pd.to_datetime(dateGroup['Datetime'], errors='coerce').idxmin()]\n",
    "print(\"Fecha más temprana: \",dateMinimo['Datetime'])"
   ]
  },
  {
   "cell_type": "code",
   "execution_count": 10,
   "metadata": {},
   "outputs": [
    {
     "name": "stdout",
     "output_type": "stream",
     "text": [
      "Total usuarios distintos:  794\n"
     ]
    }
   ],
   "source": [
    "#Ver distintos usuarios (ya limpios los datos)\n",
    "print(\"Total usuarios distintos: \",data_tot_cl.groupby('Name')['Text'].count().count())"
   ]
  },
  {
   "cell_type": "code",
   "execution_count": 11,
   "metadata": {},
   "outputs": [
    {
     "name": "stdout",
     "output_type": "stream",
     "text": [
      "Total usuarios distintos y número de tweets: \n",
      "\n",
      " Name\n",
      "#EyesightToTheBlind                     1\n",
      "(((Matt Boxer)))#СлаваУкраїні! 🇺🇸🥁🇺🇦    1\n",
      "-':,,                                   1\n",
      "-- GEROMAN -- 👀 -                       1\n",
      ".                                       2\n",
      "                                       ..\n",
      "💙💛 Eriction 💉💉💉💉                        1\n",
      "💫                                       1\n",
      "🔞 zuzu 🚀                                1\n",
      "🥁🥁🥁🥁Here's Chip! 🥁☮🌈🛠                   1\n",
      "🦋                                       1\n",
      "Name: Text, Length: 794, dtype: int64\n"
     ]
    }
   ],
   "source": [
    "print(\"Total usuarios distintos y número de tweets: \\n\\n\",data_tot_cl.groupby('Name')['Text'].count())"
   ]
  },
  {
   "cell_type": "markdown",
   "metadata": {},
   "source": [
    "### Visualización de los datos mediante gráficos"
   ]
  },
  {
   "cell_type": "code",
   "execution_count": 12,
   "metadata": {},
   "outputs": [
    {
     "data": {
      "image/png": "[encoded data removed]",
      "text/plain": [
       "<Figure size 648x648 with 1 Axes>"
      ]
     },
     "metadata": {
      "needs_background": "light"
     },
     "output_type": "display_data"
    },
    {
     "name": "stdout",
     "output_type": "stream",
     "text": [
      "\n"
     ]
    },
    {
     "data": {
      "text/plain": [
       "<AxesSubplot:ylabel='Palabra'>"
      ]
     },
     "execution_count": 12,
     "metadata": {},
     "output_type": "execute_result"
    },
    {
     "data": {
      "image/png": "[encoded data removed]",
      "text/plain": [
       "<Figure size 648x648 with 1 Axes>"
      ]
     },
     "metadata": {},
     "output_type": "display_data"
    }
   ],
   "source": [
    "import matplotlib.pyplot as plt\n",
    "\n",
    "#Guardar palabras de los tweets en un dataframe\n",
    "data_tot_cl['Palabras'] = data_tot_cl['Text'].apply(lambda x: x.split())\n",
    "\n",
    "#Crear dataframe con palabras unicas \n",
    "palabras_df = data_tot_cl['Palabras'].apply(pd.Series).stack().reset_index(level=1, drop=True)\n",
    "palabras_df.name = 'Palabra'\n",
    "palabras_df = palabras_df.value_counts()\n",
    "\n",
    "#Eliminar palabras de menos de 3 caracteres\n",
    "palabras_df = palabras_df[palabras_df.index.str.len() > 3]\n",
    "\n",
    "#Eliminamos palabras no deseadas\n",
    "palabras_df = palabras_df.drop(['will','they','this','that','from','just'])\n",
    "\n",
    "#Grafico de las palabras mas usadas\n",
    "palabras_df[:15].plot(kind='bar', color='lightgreen', figsize=(9,9))\n",
    "plt.show()\n",
    "print()\n",
    "palabras_df[:10].plot(kind='pie', shadow=True, autopct='%0.1f%%', figsize=(9,9))"
   ]
  },
  {
   "cell_type": "code",
   "execution_count": 13,
   "metadata": {},
   "outputs": [
    {
     "name": "stdout",
     "output_type": "stream",
     "text": [
      "Total palabras distintas:  5873 \n",
      "\n",
      "Visualización palabras distintas:\n",
      " Putin                      199\n",
      "Ukraine                     81\n",
      "NATO                        79\n",
      "Russia                      75\n",
      "with                        63\n",
      "                          ... \n",
      "live!                        1\n",
      "pistol                       1\n",
      "Journeyman                   1\n",
      "https://t.co/e3KVkIIpNV      1\n",
      "https://t.co/IheB3UYF0f      1\n",
      "Name: Palabra, Length: 5873, dtype: int64\n"
     ]
    }
   ],
   "source": [
    "#Guardar dataframe con palabras unicas en un csv\n",
    "palabras_df.to_csv('palabras_df.csv', sep=',', index = True)\n",
    "\n",
    "print(\"Total palabras distintas: \",palabras_df.count(),\"\\n\")\n",
    "\n",
    "print(\"Visualización palabras distintas:\\n\",palabras_df)"
   ]
  },
  {
   "cell_type": "code",
   "execution_count": null,
   "metadata": {},
   "outputs": [],
   "source": []
  },
  {
   "cell_type": "code",
   "execution_count": null,
   "metadata": {},
   "outputs": [],
   "source": []
  }
 ],
 "metadata": {
  "interpreter": {
   "hash": "706e00fa5376c8c1db49c01f5fb7f7dc3cb2fdd6749719c1b150942be7ce1ec7"
  },
  "kernelspec": {
   "display_name": "Python 3",
   "language": "python",
   "name": "python3"
  },
  "language_info": {
   "codemirror_mode": {
    "name": "ipython",
    "version": 3
   },
   "file_extension": ".py",
   "mimetype": "text/x-python",
   "name": "python",
   "nbconvert_exporter": "python",
   "pygments_lexer": "ipython3",
   "version": "3.8.5"
  }
 },
 "nbformat": 4,
 "nbformat_minor": 4
}
